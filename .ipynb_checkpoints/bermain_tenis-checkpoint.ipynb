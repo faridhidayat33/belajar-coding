{
 "cells": [
  {
   "cell_type": "code",
   "execution_count": 1,
   "id": "4ace5f90-9be7-4b71-b6a7-65070fbfd73a",
   "metadata": {},
   "outputs": [
    {
     "name": "stderr",
     "output_type": "stream",
     "text": [
      "/home/farid33/.local/lib/python3.10/site-packages/matplotlib/projections/__init__.py:63: UserWarning: Unable to import Axes3D. This may be due to multiple versions of Matplotlib being installed (e.g. as a system package and as a pip package). As a result, the 3D projection is not available.\n",
      "  warnings.warn(\"Unable to import Axes3D. This may be due to multiple versions of \"\n"
     ]
    }
   ],
   "source": [
    "#numpy and pandas initialization\n",
    "import numpy as np\n",
    "import pandas as pd\n",
    "import matplotlib.pyplot as plt"
   ]
  },
  {
   "cell_type": "code",
   "execution_count": 2,
   "id": "91980b6f-ffe6-4ce0-817b-ead27c5f0c1a",
   "metadata": {},
   "outputs": [],
   "source": [
    "#Loading the playtennis data\n",
    "playtennis = pd.read_csv(\"data_sources/data-science/playtennis.csv\")"
   ]
  },
  {
   "cell_type": "code",
   "execution_count": 3,
   "id": "ffdd95a0-cea4-480f-85e5-6f21294d2fb2",
   "metadata": {
    "scrolled": true
   },
   "outputs": [
    {
     "data": {
      "text/html": [
       "<div>\n",
       "<style scoped>\n",
       "    .dataframe tbody tr th:only-of-type {\n",
       "        vertical-align: middle;\n",
       "    }\n",
       "\n",
       "    .dataframe tbody tr th {\n",
       "        vertical-align: top;\n",
       "    }\n",
       "\n",
       "    .dataframe thead th {\n",
       "        text-align: right;\n",
       "    }\n",
       "</style>\n",
       "<table border=\"1\" class=\"dataframe\">\n",
       "  <thead>\n",
       "    <tr style=\"text-align: right;\">\n",
       "      <th></th>\n",
       "      <th>outlook</th>\n",
       "      <th>temp</th>\n",
       "      <th>humidity</th>\n",
       "      <th>windy</th>\n",
       "      <th>play</th>\n",
       "    </tr>\n",
       "  </thead>\n",
       "  <tbody>\n",
       "    <tr>\n",
       "      <th>0</th>\n",
       "      <td>sunny</td>\n",
       "      <td>hot</td>\n",
       "      <td>high</td>\n",
       "      <td>False</td>\n",
       "      <td>no</td>\n",
       "    </tr>\n",
       "    <tr>\n",
       "      <th>1</th>\n",
       "      <td>sunny</td>\n",
       "      <td>hot</td>\n",
       "      <td>high</td>\n",
       "      <td>True</td>\n",
       "      <td>no</td>\n",
       "    </tr>\n",
       "    <tr>\n",
       "      <th>2</th>\n",
       "      <td>overcast</td>\n",
       "      <td>hot</td>\n",
       "      <td>high</td>\n",
       "      <td>False</td>\n",
       "      <td>yes</td>\n",
       "    </tr>\n",
       "    <tr>\n",
       "      <th>3</th>\n",
       "      <td>rainy</td>\n",
       "      <td>mild</td>\n",
       "      <td>high</td>\n",
       "      <td>False</td>\n",
       "      <td>yes</td>\n",
       "    </tr>\n",
       "    <tr>\n",
       "      <th>4</th>\n",
       "      <td>rainy</td>\n",
       "      <td>cool</td>\n",
       "      <td>normal</td>\n",
       "      <td>False</td>\n",
       "      <td>yes</td>\n",
       "    </tr>\n",
       "  </tbody>\n",
       "</table>\n",
       "</div>"
      ],
      "text/plain": [
       "    outlook  temp humidity  windy play\n",
       "0     sunny   hot     high  False   no\n",
       "1     sunny   hot     high   True   no\n",
       "2  overcast   hot     high  False  yes\n",
       "3     rainy  mild     high  False  yes\n",
       "4     rainy  cool   normal  False  yes"
      ]
     },
     "execution_count": 3,
     "metadata": {},
     "output_type": "execute_result"
    }
   ],
   "source": [
    "playtennis.head(5)"
   ]
  },
  {
   "cell_type": "code",
   "execution_count": 4,
   "id": "f6b2ce0a-3148-41d4-842e-9a7d37a3c5c7",
   "metadata": {},
   "outputs": [
    {
     "data": {
      "text/plain": [
       "<Axes: >"
      ]
     },
     "execution_count": 4,
     "metadata": {},
     "output_type": "execute_result"
    },
    {
     "data": {
      "image/png": "[encoded data removed]",
      "text/plain": [
       "<Figure size 432x288 with 1 Axes>"
      ]
     },
     "metadata": {
      "needs_background": "light"
     },
     "output_type": "display_data"
    }
   ],
   "source": [
    "playtennis['humidity'].hist()"
   ]
  },
  {
   "cell_type": "code",
   "execution_count": 5,
   "id": "39dac40d-1992-45a4-ac22-fd808a546aa6",
   "metadata": {},
   "outputs": [
    {
     "data": {
      "text/plain": [
       "<Axes: >"
      ]
     },
     "execution_count": 5,
     "metadata": {},
     "output_type": "execute_result"
    },
    {
     "data": {
      "image/png": "[encoded data removed]",
      "text/plain": [
       "<Figure size 432x288 with 1 Axes>"
      ]
     },
     "metadata": {
      "needs_background": "light"
     },
     "output_type": "display_data"
    }
   ],
   "source": [
    "playtennis['outlook'].hist()"
   ]
  },
  {
   "cell_type": "code",
   "execution_count": 6,
   "id": "4fb9c14b-95fa-4c9c-ae3b-4ce7519edecf",
   "metadata": {},
   "outputs": [
    {
     "data": {
      "text/plain": [
       "<Axes: >"
      ]
     },
     "execution_count": 6,
     "metadata": {},
     "output_type": "execute_result"
    },
    {
     "data": {
      "image/png": "[encoded data removed]",
      "text/plain": [
       "<Figure size 432x288 with 1 Axes>"
      ]
     },
     "metadata": {
      "needs_background": "light"
     },
     "output_type": "display_data"
    }
   ],
   "source": [
    "playtennis['play'].hist()"
   ]
  },
  {
   "cell_type": "code",
   "execution_count": 7,
   "id": "73d270e6-2896-4e26-8920-6f5871169a2b",
   "metadata": {},
   "outputs": [
    {
     "name": "stdout",
     "output_type": "stream",
     "text": [
      "['sunny' 'overcast' 'rainy']\n",
      "['hot' 'mild' 'cool']\n",
      "['high' 'normal']\n",
      "[False  True]\n",
      "['no' 'yes']\n"
     ]
    }
   ],
   "source": [
    "#get unique labels\n",
    "print(playtennis['outlook'].unique())\n",
    "print(playtennis['temp'].unique())\n",
    "print(playtennis['humidity'].unique())\n",
    "print(playtennis['windy'].unique())\n",
    "print(playtennis['play'].unique())"
   ]
  },
  {
   "cell_type": "code",
   "execution_count": 8,
   "id": "69dc0aef-e500-4afd-998f-b18ee972169c",
   "metadata": {},
   "outputs": [
    {
     "name": "stderr",
     "output_type": "stream",
     "text": [
      "/usr/lib/python3/dist-packages/scipy/__init__.py:146: UserWarning: A NumPy version >=1.17.3 and <1.25.0 is required for this version of SciPy (detected version 1.26.4\n",
      "  warnings.warn(f\"A NumPy version >={np_minversion} and <{np_maxversion}\"\n"
     ]
    }
   ],
   "source": [
    "#using label encoder\n",
    "from sklearn.preprocessing import LabelEncoder\n",
    "Le = LabelEncoder() #each categorical value is assigned a numerical value(0,1,2...)\n",
    "playtennis['outlook']=Le.fit_transform(playtennis['outlook'])\n",
    "playtennis['temp']=Le.fit_transform(playtennis['temp'])\n",
    "playtennis['humidity']=Le.fit_transform(playtennis['humidity'])\n",
    "playtennis['windy']=Le.fit_transform(playtennis['windy'])\n",
    "playtennis['play']=Le.fit_transform(playtennis['play'])"
   ]
  },
  {
   "cell_type": "code",
   "execution_count": 9,
   "id": "701a372e-8ff1-40ab-b30f-7d33ad93f611",
   "metadata": {},
   "outputs": [
    {
     "name": "stdout",
     "output_type": "stream",
     "text": [
      "[2 0 1]\n",
      "[1 2 0]\n",
      "[0 1]\n",
      "[0 1]\n",
      "[0 1]\n"
     ]
    }
   ],
   "source": [
    "#After applying label encoding, each unique column labels is converted into unique numerical values between 0 to number of labels in each column\n",
    "#each value represent a unique label e.g in \"outlook\" column 2 is the label for \"sunny\", 0 is the label for \"overcast\", and 1 is a label for \"rainy\".\n",
    "print(playtennis['outlook'].unique())\n",
    "print(playtennis['temp'].unique())\n",
    "print(playtennis['humidity'].unique())\n",
    "print(playtennis['windy'].unique())\n",
    "print(playtennis['play'].unique())"
   ]
  },
  {
   "cell_type": "code",
   "execution_count": 10,
   "id": "d7678a93-7e7a-4750-9c23-4797e0b19428",
   "metadata": {},
   "outputs": [
    {
     "data": {
      "text/html": [
       "<div>\n",
       "<style scoped>\n",
       "    .dataframe tbody tr th:only-of-type {\n",
       "        vertical-align: middle;\n",
       "    }\n",
       "\n",
       "    .dataframe tbody tr th {\n",
       "        vertical-align: top;\n",
       "    }\n",
       "\n",
       "    .dataframe thead th {\n",
       "        text-align: right;\n",
       "    }\n",
       "</style>\n",
       "<table border=\"1\" class=\"dataframe\">\n",
       "  <thead>\n",
       "    <tr style=\"text-align: right;\">\n",
       "      <th></th>\n",
       "      <th>outlook</th>\n",
       "      <th>temp</th>\n",
       "      <th>humidity</th>\n",
       "      <th>windy</th>\n",
       "      <th>play</th>\n",
       "    </tr>\n",
       "  </thead>\n",
       "  <tbody>\n",
       "    <tr>\n",
       "      <th>0</th>\n",
       "      <td>2</td>\n",
       "      <td>1</td>\n",
       "      <td>0</td>\n",
       "      <td>0</td>\n",
       "      <td>0</td>\n",
       "    </tr>\n",
       "    <tr>\n",
       "      <th>1</th>\n",
       "      <td>2</td>\n",
       "      <td>1</td>\n",
       "      <td>0</td>\n",
       "      <td>1</td>\n",
       "      <td>0</td>\n",
       "    </tr>\n",
       "    <tr>\n",
       "      <th>2</th>\n",
       "      <td>0</td>\n",
       "      <td>1</td>\n",
       "      <td>0</td>\n",
       "      <td>0</td>\n",
       "      <td>1</td>\n",
       "    </tr>\n",
       "    <tr>\n",
       "      <th>3</th>\n",
       "      <td>1</td>\n",
       "      <td>2</td>\n",
       "      <td>0</td>\n",
       "      <td>0</td>\n",
       "      <td>1</td>\n",
       "    </tr>\n",
       "    <tr>\n",
       "      <th>4</th>\n",
       "      <td>1</td>\n",
       "      <td>0</td>\n",
       "      <td>1</td>\n",
       "      <td>0</td>\n",
       "      <td>1</td>\n",
       "    </tr>\n",
       "    <tr>\n",
       "      <th>5</th>\n",
       "      <td>1</td>\n",
       "      <td>0</td>\n",
       "      <td>1</td>\n",
       "      <td>1</td>\n",
       "      <td>0</td>\n",
       "    </tr>\n",
       "    <tr>\n",
       "      <th>6</th>\n",
       "      <td>0</td>\n",
       "      <td>0</td>\n",
       "      <td>1</td>\n",
       "      <td>1</td>\n",
       "      <td>1</td>\n",
       "    </tr>\n",
       "    <tr>\n",
       "      <th>7</th>\n",
       "      <td>2</td>\n",
       "      <td>2</td>\n",
       "      <td>0</td>\n",
       "      <td>0</td>\n",
       "      <td>0</td>\n",
       "    </tr>\n",
       "    <tr>\n",
       "      <th>8</th>\n",
       "      <td>2</td>\n",
       "      <td>0</td>\n",
       "      <td>1</td>\n",
       "      <td>0</td>\n",
       "      <td>1</td>\n",
       "    </tr>\n",
       "    <tr>\n",
       "      <th>9</th>\n",
       "      <td>1</td>\n",
       "      <td>2</td>\n",
       "      <td>1</td>\n",
       "      <td>0</td>\n",
       "      <td>1</td>\n",
       "    </tr>\n",
       "    <tr>\n",
       "      <th>10</th>\n",
       "      <td>2</td>\n",
       "      <td>2</td>\n",
       "      <td>1</td>\n",
       "      <td>1</td>\n",
       "      <td>1</td>\n",
       "    </tr>\n",
       "    <tr>\n",
       "      <th>11</th>\n",
       "      <td>0</td>\n",
       "      <td>2</td>\n",
       "      <td>0</td>\n",
       "      <td>1</td>\n",
       "      <td>1</td>\n",
       "    </tr>\n",
       "    <tr>\n",
       "      <th>12</th>\n",
       "      <td>0</td>\n",
       "      <td>1</td>\n",
       "      <td>1</td>\n",
       "      <td>0</td>\n",
       "      <td>1</td>\n",
       "    </tr>\n",
       "    <tr>\n",
       "      <th>13</th>\n",
       "      <td>1</td>\n",
       "      <td>2</td>\n",
       "      <td>0</td>\n",
       "      <td>1</td>\n",
       "      <td>0</td>\n",
       "    </tr>\n",
       "  </tbody>\n",
       "</table>\n",
       "</div>"
      ],
      "text/plain": [
       "    outlook  temp  humidity  windy  play\n",
       "0         2     1         0      0     0\n",
       "1         2     1         0      1     0\n",
       "2         0     1         0      0     1\n",
       "3         1     2         0      0     1\n",
       "4         1     0         1      0     1\n",
       "5         1     0         1      1     0\n",
       "6         0     0         1      1     1\n",
       "7         2     2         0      0     0\n",
       "8         2     0         1      0     1\n",
       "9         1     2         1      0     1\n",
       "10        2     2         1      1     1\n",
       "11        0     2         0      1     1\n",
       "12        0     1         1      0     1\n",
       "13        1     2         0      1     0"
      ]
     },
     "execution_count": 10,
     "metadata": {},
     "output_type": "execute_result"
    }
   ],
   "source": [
    "playtennis"
   ]
  },
  {
   "cell_type": "code",
   "execution_count": 11,
   "id": "c93bb786-affc-4516-b406-48cf7dd1b260",
   "metadata": {},
   "outputs": [],
   "source": [
    "y=playtennis['play'] #decision column\n",
    "x=playtennis.drop(['play'],axis=1) #dropping"
   ]
  },
  {
   "cell_type": "code",
   "execution_count": 13,
   "id": "0b680809-7738-4223-9ba9-dca3a0e531f7",
   "metadata": {},
   "outputs": [],
   "source": [
    "from sklearn.model_selection import train_test_split\n",
    "x_train, x_test, y_train, y_test = train_test_split(x,y,test_size = 0.2)\n",
    "#split the data"
   ]
  },
  {
   "cell_type": "code",
   "execution_count": 14,
   "id": "2ca9837a-a05a-4663-8205-f046c6c0e882",
   "metadata": {},
   "outputs": [],
   "source": [
    "from sklearn.tree import DecisionTreeClassifier\n",
    "from sklearn import metrics"
   ]
  },
  {
   "cell_type": "code",
   "execution_count": 16,
   "id": "0a011e3d-04af-48ba-b995-4b1c7c8ad63a",
   "metadata": {},
   "outputs": [],
   "source": [
    "#building decision tree\n",
    "clf=DecisionTreeClassifier()\n",
    "clf=clf.fit(x_train,y_train)\n",
    "y_pred=clf.predict(x_test)"
   ]
  },
  {
   "cell_type": "code",
   "execution_count": 17,
   "id": "bde22a75-0c7b-405c-918d-ddc05e8cc0a4",
   "metadata": {},
   "outputs": [
    {
     "name": "stdout",
     "output_type": "stream",
     "text": [
      "Accuracy: 0.6666666666666666\n"
     ]
    }
   ],
   "source": [
    "print(\"Accuracy:\", metrics.accuracy_score(y_test,y_pred))"
   ]
  },
  {
   "cell_type": "code",
   "execution_count": 21,
   "id": "60484886-de5a-4766-9502-d48c50b92804",
   "metadata": {},
   "outputs": [
    {
     "name": "stdin",
     "output_type": "stream",
     "text": [
      "Enter the outlook (sunny, overcast,rainy):  sunny\n",
      "Enter the temperature (hot,mild,cool):  mild\n",
      "Enter the humidity (high, normal):  high\n",
      "Is it windy ? (True, False):  true\n"
     ]
    },
    {
     "name": "stdout",
     "output_type": "stream",
     "text": [
      "Based on the conditions, should you play tennis ? yes\n"
     ]
    }
   ],
   "source": [
    "def predict_play():\n",
    "    Le = LabelEncoder()\n",
    "\n",
    "    outlook = input(\"Enter the outlook (sunny, overcast,rainy): \")\n",
    "    temp = input(\"Enter the temperature (hot,mild,cool): \")\n",
    "    humidity = input(\"Enter the humidity (high, normal): \")\n",
    "    windy = input(\"Is it windy ? (True, False): \")\n",
    "\n",
    "    windy = True if windy.lower() == 'true' else False\n",
    "\n",
    "    user_input = pd.DataFrame({'outlook': [outlook],\n",
    "                               'temp' : [temp],\n",
    "                               'humidity' : [humidity],\n",
    "                               'windy' : [windy]})\n",
    "    for column in x.columns:\n",
    "        user_input[column] = Le.fit_transform(user_input[column])\n",
    "\n",
    "    prediction = clf.predict(user_input)\n",
    "    prediction = \"yes\" if prediction[0] == 1 else \"no\"\n",
    "\n",
    "    print(\"Based on the conditions, should you play tennis ?\", prediction)\n",
    "\n",
    "predict_play()"
   ]
  },
  {
   "cell_type": "code",
   "execution_count": 24,
   "id": "8e59e3cc-d2d7-4728-b43f-583942fc0351",
   "metadata": {},
   "outputs": [
    {
     "name": "stdout",
     "output_type": "stream",
     "text": [
      "Defaulting to user installation because normal site-packages is not writeable\n",
      "Requirement already satisfied: dtreeviz in /home/farid33/.local/lib/python3.10/site-packages (2.2.2)\n",
      "Requirement already satisfied: pandas in /home/farid33/.local/lib/python3.10/site-packages (from dtreeviz) (2.2.2)\n",
      "Requirement already satisfied: numpy in /home/farid33/.local/lib/python3.10/site-packages (from dtreeviz) (1.26.4)\n",
      "Requirement already satisfied: graphviz>=0.9 in /home/farid33/.local/lib/python3.10/site-packages (from dtreeviz) (0.20.3)\n",
      "Requirement already satisfied: colour in /home/farid33/.local/lib/python3.10/site-packages (from dtreeviz) (0.1.5)\n",
      "Requirement already satisfied: pytest in /home/farid33/.local/lib/python3.10/site-packages (from dtreeviz) (8.3.3)\n",
      "Requirement already satisfied: scikit-learn in /home/farid33/.local/lib/python3.10/site-packages (from dtreeviz) (1.5.1)\n",
      "Requirement already satisfied: matplotlib in /home/farid33/.local/lib/python3.10/site-packages (from dtreeviz) (3.9.2)\n",
      "Requirement already satisfied: pillow>=8 in /usr/lib/python3/dist-packages (from matplotlib->dtreeviz) (9.0.1)\n",
      "Requirement already satisfied: contourpy>=1.0.1 in /home/farid33/.local/lib/python3.10/site-packages (from matplotlib->dtreeviz) (1.3.0)\n",
      "Requirement already satisfied: fonttools>=4.22.0 in /usr/lib/python3/dist-packages (from matplotlib->dtreeviz) (4.29.1)\n",
      "Requirement already satisfied: python-dateutil>=2.7 in /home/farid33/.local/lib/python3.10/site-packages (from matplotlib->dtreeviz) (2.9.0.post0)\n",
      "Requirement already satisfied: kiwisolver>=1.3.1 in /usr/lib/python3/dist-packages (from matplotlib->dtreeviz) (1.3.2)\n",
      "Requirement already satisfied: pyparsing>=2.3.1 in /usr/lib/python3/dist-packages (from matplotlib->dtreeviz) (2.4.7)\n",
      "Requirement already satisfied: packaging>=20.0 in /home/farid33/.local/lib/python3.10/site-packages (from matplotlib->dtreeviz) (24.0)\n",
      "Requirement already satisfied: cycler>=0.10 in /usr/lib/python3/dist-packages (from matplotlib->dtreeviz) (0.11.0)\n",
      "Requirement already satisfied: pytz>=2020.1 in /usr/lib/python3/dist-packages (from pandas->dtreeviz) (2022.1)\n",
      "Requirement already satisfied: tzdata>=2022.7 in /home/farid33/.local/lib/python3.10/site-packages (from pandas->dtreeviz) (2024.1)\n",
      "Requirement already satisfied: tomli>=1 in /home/farid33/.local/lib/python3.10/site-packages (from pytest->dtreeviz) (2.0.1)\n",
      "Requirement already satisfied: pluggy<2,>=1.5 in /home/farid33/.local/lib/python3.10/site-packages (from pytest->dtreeviz) (1.5.0)\n",
      "Requirement already satisfied: iniconfig in /home/farid33/.local/lib/python3.10/site-packages (from pytest->dtreeviz) (2.0.0)\n",
      "Requirement already satisfied: exceptiongroup>=1.0.0rc8 in /home/farid33/.local/lib/python3.10/site-packages (from pytest->dtreeviz) (1.2.1)\n",
      "Requirement already satisfied: threadpoolctl>=3.1.0 in /home/farid33/.local/lib/python3.10/site-packages (from scikit-learn->dtreeviz) (3.5.0)\n",
      "Requirement already satisfied: scipy>=1.6.0 in /usr/lib/python3/dist-packages (from scikit-learn->dtreeviz) (1.8.0)\n",
      "Requirement already satisfied: joblib>=1.2.0 in /home/farid33/.local/lib/python3.10/site-packages (from scikit-learn->dtreeviz) (1.4.2)\n",
      "Requirement already satisfied: six>=1.5 in /usr/lib/python3/dist-packages (from python-dateutil>=2.7->matplotlib->dtreeviz) (1.16.0)\n"
     ]
    }
   ],
   "source": [
    "!pip install dtreeviz"
   ]
  },
  {
   "cell_type": "code",
   "execution_count": 26,
   "id": "ab3f12f8-9013-4bf7-a32c-3619ee8b42df",
   "metadata": {},
   "outputs": [],
   "source": [
    "from dtreeviz.trees import *"
   ]
  },
  {
   "cell_type": "code",
   "execution_count": 27,
   "id": "44024017-7ee6-499c-91b3-c80ce39f121e",
   "metadata": {},
   "outputs": [
    {
     "ename": "NameError",
     "evalue": "name 'dtreeviz' is not defined",
     "output_type": "error",
     "traceback": [
      "\u001b[0;31m---------------------------------------------------------------------------\u001b[0m",
      "\u001b[0;31mNameError\u001b[0m                                 Traceback (most recent call last)",
      "\u001b[0;32m/tmp/ipykernel_177/2601977923.py\u001b[0m in \u001b[0;36m<module>\u001b[0;34m\u001b[0m\n\u001b[0;32m----> 1\u001b[0;31m viz = dtreeviz(classifier,\n\u001b[0m\u001b[1;32m      2\u001b[0m                \u001b[0mx\u001b[0m\u001b[0;34m,\u001b[0m\u001b[0;34m\u001b[0m\u001b[0;34m\u001b[0m\u001b[0m\n\u001b[1;32m      3\u001b[0m                \u001b[0my\u001b[0m\u001b[0;34m,\u001b[0m\u001b[0;34m\u001b[0m\u001b[0;34m\u001b[0m\u001b[0m\n\u001b[1;32m      4\u001b[0m                \u001b[0mtarget_name\u001b[0m\u001b[0;34m=\u001b[0m\u001b[0;34m'play'\u001b[0m\u001b[0;34m,\u001b[0m\u001b[0;34m\u001b[0m\u001b[0;34m\u001b[0m\u001b[0m\n\u001b[1;32m      5\u001b[0m                fancy=False)\n",
      "\u001b[0;31mNameError\u001b[0m: name 'dtreeviz' is not defined"
     ]
    }
   ],
   "source": [
    "viz = dtreeviz(classifier,\n",
    "               x,\n",
    "               y,\n",
    "               target_name='play',\n",
    "               fancy=False)\n",
    "viz.view()"
   ]
  },
  {
   "cell_type": "code",
   "execution_count": null,
   "id": "2f1da682-f160-4406-854f-fcb46f28067a",
   "metadata": {},
   "outputs": [],
   "source": []
  }
 ],
 "metadata": {
  "kernelspec": {
   "display_name": "Python 3 (ipykernel)",
   "language": "python",
   "name": "python3"
  },
  "language_info": {
   "codemirror_mode": {
    "name": "ipython",
    "version": 3
   },
   "file_extension": ".py",
   "mimetype": "text/x-python",
   "name": "python",
   "nbconvert_exporter": "python",
   "pygments_lexer": "ipython3",
   "version": "3.10.12"
  }
 },
 "nbformat": 4,
 "nbformat_minor": 5
}
